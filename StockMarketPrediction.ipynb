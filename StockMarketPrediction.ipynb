{
 "cells": [
  {
   "cell_type": "code",
   "execution_count": 1,
   "id": "96100352-f844-4131-91d3-be41f30f4723",
   "metadata": {},
   "outputs": [],
   "source": [
    "import pandas as pd\n",
    "import numpy as np\n",
    "import matplotlib.pyplot as plt"
   ]
  },
  {
   "cell_type": "code",
   "execution_count": 2,
   "id": "cd47be9f-e8e2-4361-9bdc-69f4eb709a81",
   "metadata": {},
   "outputs": [
    {
     "name": "stdout",
     "output_type": "stream",
     "text": [
      "         Date   Symbol Series  Prev Close  Open   High    Low  Last  Close  \\\n",
      "0  2000-01-03  UTIBANK     EQ       24.70  26.7  26.70  26.70  26.7  26.70   \n",
      "1  2000-01-04  UTIBANK     EQ       26.70  27.0  28.70  26.50  27.0  26.85   \n",
      "2  2000-01-05  UTIBANK     EQ       26.85  26.0  27.75  25.50  26.4  26.30   \n",
      "3  2000-01-06  UTIBANK     EQ       26.30  25.8  27.00  25.80  25.9  25.95   \n",
      "4  2000-01-07  UTIBANK     EQ       25.95  25.0  26.00  24.25  25.0  24.80   \n",
      "\n",
      "    VWAP  Volume      Turnover  Trades  Deliverable Volume  %Deliverble  \n",
      "0  26.70  112100  2.993070e+11     NaN                 NaN          NaN  \n",
      "1  27.24  234500  6.387275e+11     NaN                 NaN          NaN  \n",
      "2  26.24  170100  4.462980e+11     NaN                 NaN          NaN  \n",
      "3  26.27  102100  2.681730e+11     NaN                 NaN          NaN  \n",
      "4  25.04   62600  1.567220e+11     NaN                 NaN          NaN  \n"
     ]
    }
   ],
   "source": [
    "data=pd.read_csv('AXISBANK.csv')\n",
    "print(data.head(5)) #starting 5 rows..tail means last 5 rows"
   ]
  },
  {
   "cell_type": "code",
   "execution_count": 3,
   "id": "978f22f5-d796-488d-a4bf-743feb25aa14",
   "metadata": {},
   "outputs": [
    {
     "data": {
      "text/plain": [
       "(5306, 15)"
      ]
     },
     "execution_count": 3,
     "metadata": {},
     "output_type": "execute_result"
    }
   ],
   "source": [
    "data.shape #(rows,columns)"
   ]
  },
  {
   "cell_type": "code",
   "execution_count": 4,
   "id": "f37d4da1-f0d3-41e6-91af-a2d5f0e651f3",
   "metadata": {},
   "outputs": [],
   "source": [
    "# Assuming 'data' is your DataFrame\n",
    "# Drop the specified columns\n",
    "data = data.drop('%Deliverble', axis=1)\n"
   ]
  },
  {
   "cell_type": "code",
   "execution_count": 5,
   "id": "71a2893f-4246-4e5e-8c31-34cb26eca22a",
   "metadata": {},
   "outputs": [
    {
     "data": {
      "text/html": [
       "<div>\n",
       "<style scoped>\n",
       "    .dataframe tbody tr th:only-of-type {\n",
       "        vertical-align: middle;\n",
       "    }\n",
       "\n",
       "    .dataframe tbody tr th {\n",
       "        vertical-align: top;\n",
       "    }\n",
       "\n",
       "    .dataframe thead th {\n",
       "        text-align: right;\n",
       "    }\n",
       "</style>\n",
       "<table border=\"1\" class=\"dataframe\">\n",
       "  <thead>\n",
       "    <tr style=\"text-align: right;\">\n",
       "      <th></th>\n",
       "      <th>Date</th>\n",
       "      <th>Symbol</th>\n",
       "      <th>Series</th>\n",
       "      <th>Prev Close</th>\n",
       "      <th>Open</th>\n",
       "      <th>High</th>\n",
       "      <th>Low</th>\n",
       "      <th>Last</th>\n",
       "      <th>Close</th>\n",
       "      <th>VWAP</th>\n",
       "      <th>Volume</th>\n",
       "      <th>Turnover</th>\n",
       "      <th>Trades</th>\n",
       "      <th>Deliverable Volume</th>\n",
       "    </tr>\n",
       "  </thead>\n",
       "  <tbody>\n",
       "    <tr>\n",
       "      <th>0</th>\n",
       "      <td>2000-01-03</td>\n",
       "      <td>UTIBANK</td>\n",
       "      <td>EQ</td>\n",
       "      <td>24.70</td>\n",
       "      <td>26.7</td>\n",
       "      <td>26.70</td>\n",
       "      <td>26.70</td>\n",
       "      <td>26.7</td>\n",
       "      <td>26.70</td>\n",
       "      <td>26.70</td>\n",
       "      <td>112100</td>\n",
       "      <td>2.993070e+11</td>\n",
       "      <td>NaN</td>\n",
       "      <td>NaN</td>\n",
       "    </tr>\n",
       "    <tr>\n",
       "      <th>1</th>\n",
       "      <td>2000-01-04</td>\n",
       "      <td>UTIBANK</td>\n",
       "      <td>EQ</td>\n",
       "      <td>26.70</td>\n",
       "      <td>27.0</td>\n",
       "      <td>28.70</td>\n",
       "      <td>26.50</td>\n",
       "      <td>27.0</td>\n",
       "      <td>26.85</td>\n",
       "      <td>27.24</td>\n",
       "      <td>234500</td>\n",
       "      <td>6.387275e+11</td>\n",
       "      <td>NaN</td>\n",
       "      <td>NaN</td>\n",
       "    </tr>\n",
       "    <tr>\n",
       "      <th>2</th>\n",
       "      <td>2000-01-05</td>\n",
       "      <td>UTIBANK</td>\n",
       "      <td>EQ</td>\n",
       "      <td>26.85</td>\n",
       "      <td>26.0</td>\n",
       "      <td>27.75</td>\n",
       "      <td>25.50</td>\n",
       "      <td>26.4</td>\n",
       "      <td>26.30</td>\n",
       "      <td>26.24</td>\n",
       "      <td>170100</td>\n",
       "      <td>4.462980e+11</td>\n",
       "      <td>NaN</td>\n",
       "      <td>NaN</td>\n",
       "    </tr>\n",
       "    <tr>\n",
       "      <th>3</th>\n",
       "      <td>2000-01-06</td>\n",
       "      <td>UTIBANK</td>\n",
       "      <td>EQ</td>\n",
       "      <td>26.30</td>\n",
       "      <td>25.8</td>\n",
       "      <td>27.00</td>\n",
       "      <td>25.80</td>\n",
       "      <td>25.9</td>\n",
       "      <td>25.95</td>\n",
       "      <td>26.27</td>\n",
       "      <td>102100</td>\n",
       "      <td>2.681730e+11</td>\n",
       "      <td>NaN</td>\n",
       "      <td>NaN</td>\n",
       "    </tr>\n",
       "    <tr>\n",
       "      <th>4</th>\n",
       "      <td>2000-01-07</td>\n",
       "      <td>UTIBANK</td>\n",
       "      <td>EQ</td>\n",
       "      <td>25.95</td>\n",
       "      <td>25.0</td>\n",
       "      <td>26.00</td>\n",
       "      <td>24.25</td>\n",
       "      <td>25.0</td>\n",
       "      <td>24.80</td>\n",
       "      <td>25.04</td>\n",
       "      <td>62600</td>\n",
       "      <td>1.567220e+11</td>\n",
       "      <td>NaN</td>\n",
       "      <td>NaN</td>\n",
       "    </tr>\n",
       "  </tbody>\n",
       "</table>\n",
       "</div>"
      ],
      "text/plain": [
       "         Date   Symbol Series  Prev Close  Open   High    Low  Last  Close  \\\n",
       "0  2000-01-03  UTIBANK     EQ       24.70  26.7  26.70  26.70  26.7  26.70   \n",
       "1  2000-01-04  UTIBANK     EQ       26.70  27.0  28.70  26.50  27.0  26.85   \n",
       "2  2000-01-05  UTIBANK     EQ       26.85  26.0  27.75  25.50  26.4  26.30   \n",
       "3  2000-01-06  UTIBANK     EQ       26.30  25.8  27.00  25.80  25.9  25.95   \n",
       "4  2000-01-07  UTIBANK     EQ       25.95  25.0  26.00  24.25  25.0  24.80   \n",
       "\n",
       "    VWAP  Volume      Turnover  Trades  Deliverable Volume  \n",
       "0  26.70  112100  2.993070e+11     NaN                 NaN  \n",
       "1  27.24  234500  6.387275e+11     NaN                 NaN  \n",
       "2  26.24  170100  4.462980e+11     NaN                 NaN  \n",
       "3  26.27  102100  2.681730e+11     NaN                 NaN  \n",
       "4  25.04   62600  1.567220e+11     NaN                 NaN  "
      ]
     },
     "execution_count": 5,
     "metadata": {},
     "output_type": "execute_result"
    }
   ],
   "source": [
    "data.head(5)"
   ]
  },
  {
   "cell_type": "code",
   "execution_count": 6,
   "id": "0f11abb1-1e0e-4136-9dd1-03e11901a5fd",
   "metadata": {},
   "outputs": [
    {
     "data": {
      "text/plain": [
       "Date                     0\n",
       "Symbol                   0\n",
       "Series                   0\n",
       "Prev Close               0\n",
       "Open                     0\n",
       "High                     0\n",
       "Low                      0\n",
       "Last                     0\n",
       "Close                    0\n",
       "VWAP                     0\n",
       "Volume                   0\n",
       "Turnover                 0\n",
       "Trades                2850\n",
       "Deliverable Volume     509\n",
       "dtype: int64"
      ]
     },
     "execution_count": 6,
     "metadata": {},
     "output_type": "execute_result"
    }
   ],
   "source": [
    "data.isnull().sum()"
   ]
  },
  {
   "cell_type": "code",
   "execution_count": 7,
   "id": "a6a217a3-582f-4b96-9d0f-8d7d2a72cceb",
   "metadata": {},
   "outputs": [
    {
     "data": {
      "text/plain": [
       "(array([982., 202., 100., 245., 159., 233., 425., 605., 357., 209., 280.,\n",
       "        132.,  58., 125., 153., 143., 165., 146., 182., 131., 100.,  68.,\n",
       "         42.,   9.,   4.,   1.,   7.,  18.,  17.,   8.]),\n",
       " array([  21.        ,   88.11333333,  155.22666667,  222.34      ,\n",
       "         289.45333333,  356.56666667,  423.68      ,  490.79333333,\n",
       "         557.90666667,  625.02      ,  692.13333333,  759.24666667,\n",
       "         826.36      ,  893.47333333,  960.58666667, 1027.7       ,\n",
       "        1094.81333333, 1161.92666667, 1229.04      , 1296.15333333,\n",
       "        1363.26666667, 1430.38      , 1497.49333333, 1564.60666667,\n",
       "        1631.72      , 1698.83333333, 1765.94666667, 1833.06      ,\n",
       "        1900.17333333, 1967.28666667, 2034.4       ]),\n",
       " <BarContainer object of 30 artists>)"
      ]
     },
     "execution_count": 7,
     "metadata": {},
     "output_type": "execute_result"
    },
    {
     "data": {
      "image/png": "[encoded data removed]",
      "text/plain": [
       "<Figure size 640x480 with 1 Axes>"
      ]
     },
     "metadata": {},
     "output_type": "display_data"
    }
   ],
   "source": [
    "plt.hist(data['Open'],bins = 30)#bins sre used for number of division\n"
   ]
  },
  {
   "cell_type": "code",
   "execution_count": 8,
   "id": "e9710d04-8cea-490c-83d5-96895fd93e57",
   "metadata": {},
   "outputs": [],
   "source": [
    "x = data[['Open','Volume','High','Low','Last']]\n",
    "y = data['Close']"
   ]
  },
  {
   "cell_type": "code",
   "execution_count": 9,
   "id": "2595002c-f868-4429-a100-1de2e2c4f9ee",
   "metadata": {},
   "outputs": [],
   "source": [
    "from sklearn.model_selection import train_test_split\n",
    "from sklearn.linear_model import LinearRegression"
   ]
  },
  {
   "cell_type": "code",
   "execution_count": 10,
   "id": "3c2032cf-60e1-4108-8e85-50491784b8f9",
   "metadata": {},
   "outputs": [],
   "source": [
    "x_train,x_test,y_train,y_test = train_test_split(x,y)"
   ]
  },
  {
   "cell_type": "code",
   "execution_count": 11,
   "id": "e34f4136-2873-4bb5-97e3-54da33bea6ba",
   "metadata": {},
   "outputs": [
    {
     "name": "stdout",
     "output_type": "stream",
     "text": [
      "(3979, 5) (3979,) (1327, 5) (1327,)\n"
     ]
    }
   ],
   "source": [
    "print(x_train.shape,y_train.shape,x_test.shape,y_test.shape)\n"
   ]
  },
  {
   "cell_type": "code",
   "execution_count": 12,
   "id": "23e2ee35-1a85-4e82-911e-1cb6904332c3",
   "metadata": {},
   "outputs": [
    {
     "data": {
      "text/html": [
       "<style>#sk-container-id-1 {color: black;background-color: white;}#sk-container-id-1 pre{padding: 0;}#sk-container-id-1 div.sk-toggleable {background-color: white;}#sk-container-id-1 label.sk-toggleable__label {cursor: pointer;display: block;width: 100%;margin-bottom: 0;padding: 0.3em;box-sizing: border-box;text-align: center;}#sk-container-id-1 label.sk-toggleable__label-arrow:before {content: \"▸\";float: left;margin-right: 0.25em;color: #696969;}#sk-container-id-1 label.sk-toggleable__label-arrow:hover:before {color: black;}#sk-container-id-1 div.sk-estimator:hover label.sk-toggleable__label-arrow:before {color: black;}#sk-container-id-1 div.sk-toggleable__content {max-height: 0;max-width: 0;overflow: hidden;text-align: left;background-color: #f0f8ff;}#sk-container-id-1 div.sk-toggleable__content pre {margin: 0.2em;color: black;border-radius: 0.25em;background-color: #f0f8ff;}#sk-container-id-1 input.sk-toggleable__control:checked~div.sk-toggleable__content {max-height: 200px;max-width: 100%;overflow: auto;}#sk-container-id-1 input.sk-toggleable__control:checked~label.sk-toggleable__label-arrow:before {content: \"▾\";}#sk-container-id-1 div.sk-estimator input.sk-toggleable__control:checked~label.sk-toggleable__label {background-color: #d4ebff;}#sk-container-id-1 div.sk-label input.sk-toggleable__control:checked~label.sk-toggleable__label {background-color: #d4ebff;}#sk-container-id-1 input.sk-hidden--visually {border: 0;clip: rect(1px 1px 1px 1px);clip: rect(1px, 1px, 1px, 1px);height: 1px;margin: -1px;overflow: hidden;padding: 0;position: absolute;width: 1px;}#sk-container-id-1 div.sk-estimator {font-family: monospace;background-color: #f0f8ff;border: 1px dotted black;border-radius: 0.25em;box-sizing: border-box;margin-bottom: 0.5em;}#sk-container-id-1 div.sk-estimator:hover {background-color: #d4ebff;}#sk-container-id-1 div.sk-parallel-item::after {content: \"\";width: 100%;border-bottom: 1px solid gray;flex-grow: 1;}#sk-container-id-1 div.sk-label:hover label.sk-toggleable__label {background-color: #d4ebff;}#sk-container-id-1 div.sk-serial::before {content: \"\";position: absolute;border-left: 1px solid gray;box-sizing: border-box;top: 0;bottom: 0;left: 50%;z-index: 0;}#sk-container-id-1 div.sk-serial {display: flex;flex-direction: column;align-items: center;background-color: white;padding-right: 0.2em;padding-left: 0.2em;position: relative;}#sk-container-id-1 div.sk-item {position: relative;z-index: 1;}#sk-container-id-1 div.sk-parallel {display: flex;align-items: stretch;justify-content: center;background-color: white;position: relative;}#sk-container-id-1 div.sk-item::before, #sk-container-id-1 div.sk-parallel-item::before {content: \"\";position: absolute;border-left: 1px solid gray;box-sizing: border-box;top: 0;bottom: 0;left: 50%;z-index: -1;}#sk-container-id-1 div.sk-parallel-item {display: flex;flex-direction: column;z-index: 1;position: relative;background-color: white;}#sk-container-id-1 div.sk-parallel-item:first-child::after {align-self: flex-end;width: 50%;}#sk-container-id-1 div.sk-parallel-item:last-child::after {align-self: flex-start;width: 50%;}#sk-container-id-1 div.sk-parallel-item:only-child::after {width: 0;}#sk-container-id-1 div.sk-dashed-wrapped {border: 1px dashed gray;margin: 0 0.4em 0.5em 0.4em;box-sizing: border-box;padding-bottom: 0.4em;background-color: white;}#sk-container-id-1 div.sk-label label {font-family: monospace;font-weight: bold;display: inline-block;line-height: 1.2em;}#sk-container-id-1 div.sk-label-container {text-align: center;}#sk-container-id-1 div.sk-container {/* jupyter's `normalize.less` sets `[hidden] { display: none; }` but bootstrap.min.css set `[hidden] { display: none !important; }` so we also need the `!important` here to be able to override the default hidden behavior on the sphinx rendered scikit-learn.org. See: https://github.com/scikit-learn/scikit-learn/issues/21755 */display: inline-block !important;position: relative;}#sk-container-id-1 div.sk-text-repr-fallback {display: none;}</style><div id=\"sk-container-id-1\" class=\"sk-top-container\"><div class=\"sk-text-repr-fallback\"><pre>LinearRegression()</pre><b>In a Jupyter environment, please rerun this cell to show the HTML representation or trust the notebook. <br />On GitHub, the HTML representation is unable to render, please try loading this page with nbviewer.org.</b></div><div class=\"sk-container\" hidden><div class=\"sk-item\"><div class=\"sk-estimator sk-toggleable\"><input class=\"sk-toggleable__control sk-hidden--visually\" id=\"sk-estimator-id-1\" type=\"checkbox\" checked><label for=\"sk-estimator-id-1\" class=\"sk-toggleable__label sk-toggleable__label-arrow\">LinearRegression</label><div class=\"sk-toggleable__content\"><pre>LinearRegression()</pre></div></div></div></div></div>"
      ],
      "text/plain": [
       "LinearRegression()"
      ]
     },
     "execution_count": 12,
     "metadata": {},
     "output_type": "execute_result"
    }
   ],
   "source": [
    "model_Reg = LinearRegression()\n",
    "model_Reg.fit(x_train,y_train)"
   ]
  },
  {
   "cell_type": "code",
   "execution_count": 13,
   "id": "72d0c86e-67ce-493f-8eaa-2eeb8aa9ee07",
   "metadata": {},
   "outputs": [
    {
     "name": "stdout",
     "output_type": "stream",
     "text": [
      "[-5.76306239e-02 -2.11562912e-09  1.14033283e-01  1.09879671e-01\n",
      "  8.33751288e-01]\n"
     ]
    }
   ],
   "source": [
    "print(model_Reg.coef_)\n"
   ]
  },
  {
   "cell_type": "code",
   "execution_count": 14,
   "id": "26db25df-6722-4bbd-aa31-c280bb5f4b3c",
   "metadata": {},
   "outputs": [
    {
     "name": "stdout",
     "output_type": "stream",
     "text": [
      "-0.04522767001878947\n"
     ]
    }
   ],
   "source": [
    "print(model_Reg.intercept_) # negative means y is decreasing"
   ]
  },
  {
   "cell_type": "code",
   "execution_count": 15,
   "id": "53ec6608-c89e-436a-a181-2ca052e7ed6c",
   "metadata": {},
   "outputs": [],
   "source": [
    "predicted_value=model_Reg.predict(x_test)"
   ]
  },
  {
   "cell_type": "code",
   "execution_count": 16,
   "id": "8872aaa4-1ed5-4796-b858-20e555bab0a0",
   "metadata": {},
   "outputs": [
    {
     "data": {
      "text/plain": [
       "(1327,)"
      ]
     },
     "execution_count": 16,
     "metadata": {},
     "output_type": "execute_result"
    }
   ],
   "source": [
    "predicted_value.shape"
   ]
  },
  {
   "cell_type": "code",
   "execution_count": 17,
   "id": "d64832ae-affd-4edd-92e5-981549752b46",
   "metadata": {},
   "outputs": [],
   "source": [
    "df = pd.DataFrame(y_test,predicted_value)"
   ]
  },
  {
   "cell_type": "code",
   "execution_count": 18,
   "id": "01c0a40c-c4e5-4563-9d77-7e6092e874f8",
   "metadata": {},
   "outputs": [
    {
     "name": "stdout",
     "output_type": "stream",
     "text": [
      "      Actual Price  Predicted Price\n",
      "1286        230.95       231.236436\n",
      "4894        645.70       644.679837\n",
      "2687       1562.25      1565.938811\n",
      "4231        437.65       435.867423\n",
      "1891        649.70       651.227929\n",
      "...            ...              ...\n",
      "882          74.95        74.835180\n",
      "2633       1347.15      1346.811177\n",
      "2128        628.60       628.150120\n",
      "5305        714.90       713.307961\n",
      "4295        499.25       498.545251\n",
      "\n",
      "[1327 rows x 2 columns]\n"
     ]
    }
   ],
   "source": [
    "df1 = pd.DataFrame({'Actual Price':y_test,'Predicted Price':predicted_value})\n",
    "print(df1)"
   ]
  },
  {
   "cell_type": "code",
   "execution_count": 19,
   "id": "1d01e84f-cb72-46a8-bd4b-bc6f7d56cb3b",
   "metadata": {},
   "outputs": [
    {
     "data": {
      "text/plain": [
       "<Axes: >"
      ]
     },
     "execution_count": 19,
     "metadata": {},
     "output_type": "execute_result"
    },
    {
     "data": {
      "image/png": "[encoded data removed]",
      "text/plain": [
       "<Figure size 640x480 with 1 Axes>"
      ]
     },
     "metadata": {},
     "output_type": "display_data"
    }
   ],
   "source": [
    "df2 = df1.head(15)\n",
    "df2.plot(kind='bar')"
   ]
  },
  {
   "cell_type": "code",
   "execution_count": 20,
   "id": "aeca3098-591f-47a9-9f96-518c220fe105",
   "metadata": {},
   "outputs": [],
   "source": [
    "import math\n",
    "from sklearn import metrics"
   ]
  },
  {
   "cell_type": "code",
   "execution_count": 21,
   "id": "34f1ba13-535e-4739-bc9f-93da3ffee461",
   "metadata": {},
   "outputs": [
    {
     "name": "stdout",
     "output_type": "stream",
     "text": [
      "1.425740824703272\n"
     ]
    }
   ],
   "source": [
    "print(metrics.mean_absolute_error(y_test,predicted_value))"
   ]
  },
  {
   "cell_type": "code",
   "execution_count": 22,
   "id": "891336d3-ad86-4b1f-8584-52cf757f3a00",
   "metadata": {},
   "outputs": [
    {
     "name": "stdout",
     "output_type": "stream",
     "text": [
      "5.562416522815954\n"
     ]
    }
   ],
   "source": [
    "print(metrics.mean_squared_error(y_test,predicted_value))"
   ]
  },
  {
   "cell_type": "code",
   "execution_count": null,
   "id": "89e0bdd1-c894-49af-807a-68d6a9042279",
   "metadata": {},
   "outputs": [],
   "source": []
  }
 ],
 "metadata": {
  "kernelspec": {
   "display_name": "Python 3 (ipykernel)",
   "language": "python",
   "name": "python3"
  },
  "language_info": {
   "codemirror_mode": {
    "name": "ipython",
    "version": 3
   },
   "file_extension": ".py",
   "mimetype": "text/x-python",
   "name": "python",
   "nbconvert_exporter": "python",
   "pygments_lexer": "ipython3",
   "version": "3.11.7"
  }
 },
 "nbformat": 4,
 "nbformat_minor": 5
}
